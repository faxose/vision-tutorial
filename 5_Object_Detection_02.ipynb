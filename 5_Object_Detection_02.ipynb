{
  "nbformat": 4,
  "nbformat_minor": 0,
  "metadata": {
    "colab": {
      "name": "5 Object Detection_02.ipynb",
      "provenance": [],
      "collapsed_sections": [],
      "toc_visible": true,
      "include_colab_link": true
    },
    "kernelspec": {
      "name": "python3",
      "display_name": "Python 3"
    },
    "accelerator": "GPU"
  },
  "cells": [
    {
      "cell_type": "markdown",
      "metadata": {
        "id": "view-in-github",
        "colab_type": "text"
      },
      "source": [
        "<a href=\"https://colab.research.google.com/github/mlvlab/vision-tutorial/blob/master/5_Object_Detection_02.ipynb\" target=\"_parent\"><img src=\"https://colab.research.google.com/assets/colab-badge.svg\" alt=\"Open In Colab\"/></a>"
      ]
    },
    {
      "cell_type": "markdown",
      "metadata": {
        "colab_type": "text",
        "id": "QX1esx9JMpFR"
      },
      "source": [
        "# **Lab Session #5: Object Detection**\n",
        "\n",
        "\n",
        "by Sihyeon Kim (mlv lab @ Korea University) on October 2019\n",
        "\n",
        "for SKC Lecture, Fall 2019 (Prof. Hyunwoo J. Kim)\n",
        "\n",
        "\n",
        "---\n",
        "**Contents**\n",
        "1. Object Detection Tutorial: Inference with a pretrained model\n",
        "2. Finetuning a pretrained model for certain purpose\n",
        "\n",
        "\n",
        "**Reference**\n",
        "\n",
        "* [Object Detection Tutorial](https://www.learnopencv.com/faster-r-cnn-object-detection-with-pytorch/)\n",
        "\n",
        "\n",
        "* [Object Detection Finetuning](https://pytorch.org/tutorials/intermediate/torchvision_tutorial.html#)\n",
        "\n",
        "---\n",
        "\n",
        "\n"
      ]
    },
    {
      "cell_type": "markdown",
      "metadata": {
        "id": "lN9hkAkScyZp",
        "colab_type": "text"
      },
      "source": [
        "# 2. Finetuning a pretrained model for certain purpose\n",
        "\n",
        "\n",
        "\n",
        "*   Finetuning for your particular dataset from a pretrained model\n",
        "*   Modifying the model to change a backbone network\n",
        "\n"
      ]
    },
    {
      "cell_type": "code",
      "metadata": {
        "id": "IMN_wcdlVc--",
        "colab_type": "code",
        "colab": {}
      },
      "source": [
        "import os\n",
        "import numpy as np\n",
        "import torch\n",
        "import torchvision\n",
        "import cv2\n",
        "from PIL import Image\n",
        "from matplotlib import pyplot as plt\n",
        "from torchvision import transforms as T"
      ],
      "execution_count": 0,
      "outputs": []
    },
    {
      "cell_type": "code",
      "metadata": {
        "id": "oMh-Sf9fIxqU",
        "colab_type": "code",
        "colab": {}
      },
      "source": [
        "%%shell\n",
        "\n",
        "# Install pycocotools\n",
        "git clone https://github.com/cocodataset/cocoapi.git\n",
        "cd cocoapi/PythonAPI\n",
        "python setup.py build_ext install"
      ],
      "execution_count": 0,
      "outputs": []
    },
    {
      "cell_type": "code",
      "metadata": {
        "id": "3j0kPZi2I226",
        "colab_type": "code",
        "colab": {}
      },
      "source": [
        "%%shell\n",
        "\n",
        "# download the Penn-Fudan dataset\n",
        "\n",
        "wget https://www.cis.upenn.edu/~jshi/ped_html/PennFudanPed.zip .\n",
        "# extract it in the current folder\n",
        "unzip PennFudanPed.zip"
      ],
      "execution_count": 0,
      "outputs": []
    },
    {
      "cell_type": "code",
      "metadata": {
        "id": "bgfXCUznI6vq",
        "colab_type": "code",
        "colab": {}
      },
      "source": [
        "from PIL import Image\n",
        "Image.open('PennFudanPed/PNGImages/FudanPed00001.png')"
      ],
      "execution_count": 0,
      "outputs": []
    },
    {
      "cell_type": "code",
      "metadata": {
        "id": "BpRqKbMuI_Iz",
        "colab_type": "code",
        "colab": {}
      },
      "source": [
        "import torch.utils.data\n",
        "\n",
        "class PennFudanDataset(torch.utils.data.Dataset):\n",
        "    def __init__(self, root, transforms=None):\n",
        "        self.root = root\n",
        "        self.transforms = transforms\n",
        "        # load all image files, sorting them to\n",
        "        # ensure that they are aligned\n",
        "        self.imgs = list(sorted(os.listdir(os.path.join(root, \"PNGImages\"))))\n",
        "        self.masks = list(sorted(os.listdir(os.path.join(root, \"PedMasks\"))))\n",
        "\n",
        "    def __getitem__(self, idx):\n",
        "        # load images ad masks\n",
        "        img_path = os.path.join(self.root, \"PNGImages\", self.imgs[idx])\n",
        "        mask_path = os.path.join(self.root, \"PedMasks\", self.masks[idx])\n",
        "        img = Image.open(img_path).convert(\"RGB\")\n",
        "        # note that we haven't converted the mask to RGB,\n",
        "        # because each color corresponds to a different instance\n",
        "        # with 0 being background\n",
        "        mask = Image.open(mask_path)\n",
        "\n",
        "        mask = np.array(mask)\n",
        "        # instances are encoded as different colors\n",
        "        obj_ids = np.unique(mask)\n",
        "        # first id is the background, so remove it\n",
        "        obj_ids = obj_ids[1:]\n",
        "\n",
        "        # split the color-encoded mask into a set\n",
        "        # of binary masks\n",
        "        masks = mask == obj_ids[:, None, None]\n",
        "\n",
        "        # get bounding box coordinates for each mask\n",
        "        num_objs = len(obj_ids)\n",
        "        boxes = []\n",
        "        for i in range(num_objs):\n",
        "            pos = np.where(masks[i])\n",
        "            xmin = np.min(pos[1])\n",
        "            xmax = np.max(pos[1])\n",
        "            ymin = np.min(pos[0])\n",
        "            ymax = np.max(pos[0])\n",
        "            boxes.append([xmin, ymin, xmax, ymax])\n",
        "\n",
        "        boxes = torch.as_tensor(boxes, dtype=torch.float32)\n",
        "        # there is only one class\n",
        "        labels = torch.ones((num_objs,), dtype=torch.int64)\n",
        "        masks = torch.as_tensor(masks, dtype=torch.uint8)\n",
        "\n",
        "        image_id = torch.tensor([idx])\n",
        "        area = (boxes[:, 3] - boxes[:, 1]) * (boxes[:, 2] - boxes[:, 0])\n",
        "        # suppose all instances are not crowd\n",
        "        iscrowd = torch.zeros((num_objs,), dtype=torch.int64)\n",
        "\n",
        "        target = {}\n",
        "        target[\"boxes\"] = boxes\n",
        "        target[\"labels\"] = labels\n",
        "        #target[\"masks\"] = masks\n",
        "        target[\"image_id\"] = image_id\n",
        "        target[\"area\"] = area\n",
        "        target[\"iscrowd\"] = iscrowd\n",
        "\n",
        "        if self.transforms is not None:\n",
        "            img, target = self.transforms(img, target)\n",
        "\n",
        "        return img, target\n",
        "\n",
        "    def __len__(self):\n",
        "        return len(self.imgs)"
      ],
      "execution_count": 0,
      "outputs": []
    },
    {
      "cell_type": "code",
      "metadata": {
        "id": "2HPxRuZrJC-X",
        "colab_type": "code",
        "outputId": "56e2e19b-e693-4a0b-852c-6fe490a69b8f",
        "colab": {
          "base_uri": "https://localhost:8080/",
          "height": 70
        }
      },
      "source": [
        "dataset = PennFudanDataset('PennFudanPed/')\n",
        "dataset[0]"
      ],
      "execution_count": 6,
      "outputs": [
        {
          "output_type": "execute_result",
          "data": {
            "text/plain": [
              "(<PIL.Image.Image image mode=RGB size=559x536 at 0x7F5586E53668>,\n",
              " {'area': tensor([35358., 36225.]), 'boxes': tensor([[159., 181., 301., 430.],\n",
              "          [419., 170., 534., 485.]]), 'image_id': tensor([0]), 'iscrowd': tensor([0, 0]), 'labels': tensor([1, 1])})"
            ]
          },
          "metadata": {
            "tags": []
          },
          "execution_count": 6
        }
      ]
    },
    {
      "cell_type": "code",
      "metadata": {
        "id": "asO7xj5mbA48",
        "colab_type": "code",
        "colab": {}
      },
      "source": [
        "# pretrained model을 가져와서 finetuning해볼 것임\n",
        "# 첫번째 방법: 미리 학습된 모델에서 시작해서 마지막 레이어 수준만 미세 조정하는 것\n",
        "# 우리는 사람클래스해서 딱 2개만 필요하니까 마지막 레이어를 바꾸는 거임\n",
        "# Let's suppose that you want to start from a model pre-trained on COCO and want to finetune it for your particular classes\n",
        "import torchvision\n",
        "from torchvision.models.detection.faster_rcnn import FastRCNNPredictor\n",
        "\n",
        "\n",
        "def get_model(num_classes):\n",
        "    # COCO 에서 미리 학습된 인스턴스 분할 모델을 읽어옵니다\n",
        "    model = torchvision.models.detection.fasterrcnn_resnet50_fpn(pretrained=True)\n",
        "\n",
        "    # 분류를 위한 입력 특징 차원을 얻습니다\n",
        "    in_features = model.roi_heads.box_predictor.cls_score.in_features\n",
        "    # 미리 학습된 헤더를 새로운 것으로 바꿉니다\n",
        "    model.roi_heads.box_predictor = FastRCNNPredictor(in_features, num_classes)\n",
        "\n",
        "    return model"
      ],
      "execution_count": 0,
      "outputs": []
    },
    {
      "cell_type": "code",
      "metadata": {
        "id": "VEV14Zi6JOZk",
        "colab_type": "code",
        "colab": {}
      },
      "source": [
        "%%shell\n",
        "\n",
        "# Download TorchVision repo to use some files from\n",
        "# references/detection\n",
        "git clone https://github.com/pytorch/vision.git\n",
        "cd vision\n",
        "git checkout v0.3.0\n",
        "\n",
        "cp references/detection/utils.py ../\n",
        "cp references/detection/transforms.py ../\n",
        "cp references/detection/coco_eval.py ../\n",
        "cp references/detection/engine.py ../\n",
        "cp references/detection/coco_utils.py ../"
      ],
      "execution_count": 0,
      "outputs": []
    },
    {
      "cell_type": "code",
      "metadata": {
        "id": "HPMOSidTJOo6",
        "colab_type": "code",
        "colab": {}
      },
      "source": [
        "from engine import train_one_epoch, evaluate\n",
        "import utils\n",
        "import transforms as T\n",
        "\n",
        "\n",
        "def get_transform(train):\n",
        "    transforms = []\n",
        "    # converts the image, a PIL image, into a PyTorch Tensor\n",
        "    transforms.append(T.ToTensor())\n",
        "    if train:\n",
        "        # during training, randomly flip the training images\n",
        "        # and ground-truth for data augmentation\n",
        "        transforms.append(T.RandomHorizontalFlip(0.5))\n",
        "    return T.Compose(transforms)"
      ],
      "execution_count": 0,
      "outputs": []
    },
    {
      "cell_type": "code",
      "metadata": {
        "id": "mcbhVm19JS_Y",
        "colab_type": "code",
        "colab": {}
      },
      "source": [
        "# use our dataset and defined transformations\n",
        "dataset = PennFudanDataset('PennFudanPed', get_transform(train=True))\n",
        "dataset_test = PennFudanDataset('PennFudanPed', get_transform(train=False))\n",
        "\n",
        "# split the dataset in train and test set\n",
        "torch.manual_seed(1)\n",
        "indices = torch.randperm(len(dataset)).tolist()\n",
        "dataset = torch.utils.data.Subset(dataset, indices[:-50])\n",
        "dataset_test = torch.utils.data.Subset(dataset_test, indices[-50:])\n",
        "\n",
        "# define training and validation data loaders\n",
        "data_loader = torch.utils.data.DataLoader(\n",
        "    dataset, batch_size=2, shuffle=True, num_workers=4,\n",
        "    collate_fn=utils.collate_fn)\n",
        "\n",
        "data_loader_test = torch.utils.data.DataLoader(\n",
        "    dataset_test, batch_size=1, shuffle=False, num_workers=4,\n",
        "    collate_fn=utils.collate_fn)"
      ],
      "execution_count": 0,
      "outputs": []
    },
    {
      "cell_type": "code",
      "metadata": {
        "id": "jCEX8krPJTCB",
        "colab_type": "code",
        "colab": {}
      },
      "source": [
        "device = torch.device('cuda') if torch.cuda.is_available() else torch.device('cpu')\n",
        "\n",
        "# our dataset has two classes only - background and person\n",
        "num_classes = 2\n",
        "\n",
        "# get the model using our helper function\n",
        "model = get_model(num_classes)\n",
        "# move model to the right device\n",
        "model.to(device)\n",
        "\n",
        "# construct an optimizer\n",
        "params = [p for p in model.parameters() if p.requires_grad]\n",
        "optimizer = torch.optim.SGD(params, lr=0.005,\n",
        "                            momentum=0.9, weight_decay=0.0005)\n",
        "\n",
        "# and a learning rate scheduler which decreases the learning rate by\n",
        "# 10x every 3 epochs\n",
        "lr_scheduler = torch.optim.lr_scheduler.StepLR(optimizer,\n",
        "                                               step_size=3,\n",
        "                                               gamma=0.1)"
      ],
      "execution_count": 0,
      "outputs": []
    },
    {
      "cell_type": "code",
      "metadata": {
        "id": "q6S3_5KLJPCH",
        "colab_type": "code",
        "outputId": "e2febe16-70e2-4a2a-e3d5-f22647c9e7e9",
        "colab": {
          "base_uri": "https://localhost:8080/",
          "height": 1000
        }
      },
      "source": [
        "# let's train it for 10 epochs\n",
        "num_epochs = 3\n",
        "\n",
        "for epoch in range(num_epochs):\n",
        "    # train for one epoch, printing every 10 iterations\n",
        "    train_one_epoch(model, optimizer, data_loader, device, epoch, print_freq=10)\n",
        "    # update the learning rate\n",
        "    lr_scheduler.step()\n",
        "    # evaluate on the test dataset\n",
        "    evaluate(model, data_loader_test, device=device)"
      ],
      "execution_count": 12,
      "outputs": [
        {
          "output_type": "stream",
          "text": [
            "Epoch: [0]  [ 0/60]  eta: 0:03:18  lr: 0.000090  loss: 1.2332 (1.2332)  loss_classifier: 1.0216 (1.0216)  loss_box_reg: 0.2010 (0.2010)  loss_objectness: 0.0030 (0.0030)  loss_rpn_box_reg: 0.0076 (0.0076)  time: 3.3019  data: 0.2742  max mem: 3078\n",
            "Epoch: [0]  [10/60]  eta: 0:01:27  lr: 0.000936  loss: 0.9685 (0.9112)  loss_classifier: 0.7130 (0.6360)  loss_box_reg: 0.2186 (0.2461)  loss_objectness: 0.0145 (0.0181)  loss_rpn_box_reg: 0.0076 (0.0111)  time: 1.7402  data: 0.0319  max mem: 3316\n",
            "Epoch: [0]  [20/60]  eta: 0:01:07  lr: 0.001783  loss: 0.5062 (0.6999)  loss_classifier: 0.2784 (0.4423)  loss_box_reg: 0.2158 (0.2297)  loss_objectness: 0.0142 (0.0153)  loss_rpn_box_reg: 0.0110 (0.0125)  time: 1.5958  data: 0.0073  max mem: 3316\n",
            "Epoch: [0]  [30/60]  eta: 0:00:48  lr: 0.002629  loss: 0.3435 (0.5542)  loss_classifier: 0.1024 (0.3216)  loss_box_reg: 0.1933 (0.2065)  loss_objectness: 0.0099 (0.0142)  loss_rpn_box_reg: 0.0106 (0.0119)  time: 1.5476  data: 0.0070  max mem: 3316\n",
            "Epoch: [0]  [40/60]  eta: 0:00:31  lr: 0.003476  loss: 0.2091 (0.4622)  loss_classifier: 0.0560 (0.2568)  loss_box_reg: 0.1299 (0.1820)  loss_objectness: 0.0045 (0.0120)  loss_rpn_box_reg: 0.0101 (0.0114)  time: 1.4639  data: 0.0069  max mem: 3316\n",
            "Epoch: [0]  [50/60]  eta: 0:00:15  lr: 0.004323  loss: 0.1285 (0.3982)  loss_classifier: 0.0476 (0.2159)  loss_box_reg: 0.0634 (0.1600)  loss_objectness: 0.0028 (0.0100)  loss_rpn_box_reg: 0.0083 (0.0123)  time: 1.4241  data: 0.0066  max mem: 3316\n",
            "Epoch: [0]  [59/60]  eta: 0:00:01  lr: 0.005000  loss: 0.1249 (0.3578)  loss_classifier: 0.0437 (0.1918)  loss_box_reg: 0.0567 (0.1444)  loss_objectness: 0.0007 (0.0088)  loss_rpn_box_reg: 0.0135 (0.0128)  time: 1.4386  data: 0.0066  max mem: 3316\n",
            "Epoch: [0] Total time: 0:01:32 (1.5348 s / it)\n",
            "creating index...\n",
            "index created!\n",
            "Test:  [ 0/50]  eta: 0:00:38  model_time: 0.6386 (0.6386)  evaluator_time: 0.0021 (0.0021)  time: 0.7744  data: 0.1321  max mem: 3316\n",
            "Test:  [49/50]  eta: 0:00:00  model_time: 0.3353 (0.3300)  evaluator_time: 0.0013 (0.0019)  time: 0.3362  data: 0.0036  max mem: 3316\n",
            "Test: Total time: 0:00:17 (0.3409 s / it)\n",
            "Averaged stats: model_time: 0.3353 (0.3300)  evaluator_time: 0.0013 (0.0019)\n",
            "Accumulating evaluation results...\n",
            "DONE (t=0.01s).\n",
            "IoU metric: bbox\n",
            " Average Precision  (AP) @[ IoU=0.50:0.95 | area=   all | maxDets=100 ] = 0.702\n",
            " Average Precision  (AP) @[ IoU=0.50      | area=   all | maxDets=100 ] = 0.987\n",
            " Average Precision  (AP) @[ IoU=0.75      | area=   all | maxDets=100 ] = 0.898\n",
            " Average Precision  (AP) @[ IoU=0.50:0.95 | area= small | maxDets=100 ] = -1.000\n",
            " Average Precision  (AP) @[ IoU=0.50:0.95 | area=medium | maxDets=100 ] = 0.470\n",
            " Average Precision  (AP) @[ IoU=0.50:0.95 | area= large | maxDets=100 ] = 0.711\n",
            " Average Recall     (AR) @[ IoU=0.50:0.95 | area=   all | maxDets=  1 ] = 0.325\n",
            " Average Recall     (AR) @[ IoU=0.50:0.95 | area=   all | maxDets= 10 ] = 0.761\n",
            " Average Recall     (AR) @[ IoU=0.50:0.95 | area=   all | maxDets=100 ] = 0.762\n",
            " Average Recall     (AR) @[ IoU=0.50:0.95 | area= small | maxDets=100 ] = -1.000\n",
            " Average Recall     (AR) @[ IoU=0.50:0.95 | area=medium | maxDets=100 ] = 0.675\n",
            " Average Recall     (AR) @[ IoU=0.50:0.95 | area= large | maxDets=100 ] = 0.768\n",
            "Epoch: [1]  [ 0/60]  eta: 0:01:46  lr: 0.005000  loss: 0.0550 (0.0550)  loss_classifier: 0.0231 (0.0231)  loss_box_reg: 0.0215 (0.0215)  loss_objectness: 0.0001 (0.0001)  loss_rpn_box_reg: 0.0103 (0.0103)  time: 1.7688  data: 0.2981  max mem: 3316\n",
            "Epoch: [1]  [10/60]  eta: 0:01:15  lr: 0.005000  loss: 0.0744 (0.0784)  loss_classifier: 0.0314 (0.0309)  loss_box_reg: 0.0304 (0.0354)  loss_objectness: 0.0004 (0.0020)  loss_rpn_box_reg: 0.0097 (0.0101)  time: 1.5141  data: 0.0314  max mem: 3316\n",
            "Epoch: [1]  [20/60]  eta: 0:01:00  lr: 0.005000  loss: 0.0749 (0.0860)  loss_classifier: 0.0351 (0.0357)  loss_box_reg: 0.0334 (0.0374)  loss_objectness: 0.0011 (0.0024)  loss_rpn_box_reg: 0.0093 (0.0104)  time: 1.4960  data: 0.0057  max mem: 3316\n",
            "Epoch: [1]  [30/60]  eta: 0:00:45  lr: 0.005000  loss: 0.0893 (0.0945)  loss_classifier: 0.0402 (0.0418)  loss_box_reg: 0.0400 (0.0397)  loss_objectness: 0.0005 (0.0018)  loss_rpn_box_reg: 0.0102 (0.0112)  time: 1.5368  data: 0.0068  max mem: 3316\n",
            "Epoch: [1]  [40/60]  eta: 0:00:30  lr: 0.005000  loss: 0.0989 (0.0950)  loss_classifier: 0.0479 (0.0420)  loss_box_reg: 0.0416 (0.0397)  loss_objectness: 0.0003 (0.0018)  loss_rpn_box_reg: 0.0119 (0.0115)  time: 1.5664  data: 0.0069  max mem: 3316\n",
            "Epoch: [1]  [50/60]  eta: 0:00:15  lr: 0.005000  loss: 0.0737 (0.0913)  loss_classifier: 0.0320 (0.0406)  loss_box_reg: 0.0242 (0.0374)  loss_objectness: 0.0006 (0.0018)  loss_rpn_box_reg: 0.0109 (0.0114)  time: 1.5241  data: 0.0069  max mem: 3316\n",
            "Epoch: [1]  [59/60]  eta: 0:00:01  lr: 0.005000  loss: 0.0632 (0.0916)  loss_classifier: 0.0320 (0.0410)  loss_box_reg: 0.0190 (0.0366)  loss_objectness: 0.0018 (0.0021)  loss_rpn_box_reg: 0.0101 (0.0119)  time: 1.4775  data: 0.0069  max mem: 3316\n",
            "Epoch: [1] Total time: 0:01:31 (1.5176 s / it)\n",
            "creating index...\n",
            "index created!\n",
            "Test:  [ 0/50]  eta: 0:00:27  model_time: 0.3703 (0.3703)  evaluator_time: 0.0026 (0.0026)  time: 0.5419  data: 0.1675  max mem: 3316\n",
            "Test:  [49/50]  eta: 0:00:00  model_time: 0.3375 (0.3256)  evaluator_time: 0.0012 (0.0017)  time: 0.3377  data: 0.0036  max mem: 3316\n",
            "Test: Total time: 0:00:16 (0.3371 s / it)\n",
            "Averaged stats: model_time: 0.3375 (0.3256)  evaluator_time: 0.0012 (0.0017)\n",
            "Accumulating evaluation results...\n",
            "DONE (t=0.01s).\n",
            "IoU metric: bbox\n",
            " Average Precision  (AP) @[ IoU=0.50:0.95 | area=   all | maxDets=100 ] = 0.771\n",
            " Average Precision  (AP) @[ IoU=0.50      | area=   all | maxDets=100 ] = 0.992\n",
            " Average Precision  (AP) @[ IoU=0.75      | area=   all | maxDets=100 ] = 0.937\n",
            " Average Precision  (AP) @[ IoU=0.50:0.95 | area= small | maxDets=100 ] = -1.000\n",
            " Average Precision  (AP) @[ IoU=0.50:0.95 | area=medium | maxDets=100 ] = 0.566\n",
            " Average Precision  (AP) @[ IoU=0.50:0.95 | area= large | maxDets=100 ] = 0.779\n",
            " Average Recall     (AR) @[ IoU=0.50:0.95 | area=   all | maxDets=  1 ] = 0.363\n",
            " Average Recall     (AR) @[ IoU=0.50:0.95 | area=   all | maxDets= 10 ] = 0.817\n",
            " Average Recall     (AR) @[ IoU=0.50:0.95 | area=   all | maxDets=100 ] = 0.817\n",
            " Average Recall     (AR) @[ IoU=0.50:0.95 | area= small | maxDets=100 ] = -1.000\n",
            " Average Recall     (AR) @[ IoU=0.50:0.95 | area=medium | maxDets=100 ] = 0.750\n",
            " Average Recall     (AR) @[ IoU=0.50:0.95 | area= large | maxDets=100 ] = 0.822\n",
            "Epoch: [2]  [ 0/60]  eta: 0:01:43  lr: 0.005000  loss: 0.0331 (0.0331)  loss_classifier: 0.0211 (0.0211)  loss_box_reg: 0.0089 (0.0089)  loss_objectness: 0.0001 (0.0001)  loss_rpn_box_reg: 0.0030 (0.0030)  time: 1.7270  data: 0.2770  max mem: 3316\n",
            "Epoch: [2]  [10/60]  eta: 0:01:16  lr: 0.005000  loss: 0.0543 (0.0563)  loss_classifier: 0.0253 (0.0292)  loss_box_reg: 0.0153 (0.0161)  loss_objectness: 0.0006 (0.0014)  loss_rpn_box_reg: 0.0092 (0.0095)  time: 1.5213  data: 0.0314  max mem: 3316\n",
            "Epoch: [2]  [20/60]  eta: 0:01:00  lr: 0.005000  loss: 0.0479 (0.0517)  loss_classifier: 0.0237 (0.0261)  loss_box_reg: 0.0136 (0.0154)  loss_objectness: 0.0006 (0.0012)  loss_rpn_box_reg: 0.0078 (0.0090)  time: 1.5098  data: 0.0068  max mem: 3316\n",
            "Epoch: [2]  [30/60]  eta: 0:00:46  lr: 0.005000  loss: 0.0531 (0.0575)  loss_classifier: 0.0237 (0.0281)  loss_box_reg: 0.0142 (0.0189)  loss_objectness: 0.0002 (0.0010)  loss_rpn_box_reg: 0.0094 (0.0095)  time: 1.5412  data: 0.0069  max mem: 3316\n",
            "Epoch: [2]  [40/60]  eta: 0:00:30  lr: 0.005000  loss: 0.0616 (0.0611)  loss_classifier: 0.0305 (0.0298)  loss_box_reg: 0.0165 (0.0202)  loss_objectness: 0.0002 (0.0010)  loss_rpn_box_reg: 0.0096 (0.0101)  time: 1.5313  data: 0.0069  max mem: 3316\n",
            "Epoch: [2]  [50/60]  eta: 0:00:15  lr: 0.005000  loss: 0.0665 (0.0625)  loss_classifier: 0.0268 (0.0307)  loss_box_reg: 0.0165 (0.0206)  loss_objectness: 0.0003 (0.0010)  loss_rpn_box_reg: 0.0094 (0.0102)  time: 1.4711  data: 0.0070  max mem: 3573\n",
            "Epoch: [2]  [59/60]  eta: 0:00:01  lr: 0.005000  loss: 0.0626 (0.0645)  loss_classifier: 0.0361 (0.0316)  loss_box_reg: 0.0213 (0.0215)  loss_objectness: 0.0004 (0.0010)  loss_rpn_box_reg: 0.0095 (0.0104)  time: 1.4766  data: 0.0068  max mem: 3573\n",
            "Epoch: [2] Total time: 0:01:30 (1.5090 s / it)\n",
            "creating index...\n",
            "index created!\n",
            "Test:  [ 0/50]  eta: 0:00:27  model_time: 0.3775 (0.3775)  evaluator_time: 0.0019 (0.0019)  time: 0.5499  data: 0.1688  max mem: 3573\n",
            "Test:  [49/50]  eta: 0:00:00  model_time: 0.3373 (0.3250)  evaluator_time: 0.0013 (0.0017)  time: 0.3369  data: 0.0038  max mem: 3573\n",
            "Test: Total time: 0:00:16 (0.3365 s / it)\n",
            "Averaged stats: model_time: 0.3373 (0.3250)  evaluator_time: 0.0013 (0.0017)\n",
            "Accumulating evaluation results...\n",
            "DONE (t=0.01s).\n",
            "IoU metric: bbox\n",
            " Average Precision  (AP) @[ IoU=0.50:0.95 | area=   all | maxDets=100 ] = 0.802\n",
            " Average Precision  (AP) @[ IoU=0.50      | area=   all | maxDets=100 ] = 0.990\n",
            " Average Precision  (AP) @[ IoU=0.75      | area=   all | maxDets=100 ] = 0.942\n",
            " Average Precision  (AP) @[ IoU=0.50:0.95 | area= small | maxDets=100 ] = -1.000\n",
            " Average Precision  (AP) @[ IoU=0.50:0.95 | area=medium | maxDets=100 ] = 0.539\n",
            " Average Precision  (AP) @[ IoU=0.50:0.95 | area= large | maxDets=100 ] = 0.811\n",
            " Average Recall     (AR) @[ IoU=0.50:0.95 | area=   all | maxDets=  1 ] = 0.376\n",
            " Average Recall     (AR) @[ IoU=0.50:0.95 | area=   all | maxDets= 10 ] = 0.846\n",
            " Average Recall     (AR) @[ IoU=0.50:0.95 | area=   all | maxDets=100 ] = 0.846\n",
            " Average Recall     (AR) @[ IoU=0.50:0.95 | area= small | maxDets=100 ] = -1.000\n",
            " Average Recall     (AR) @[ IoU=0.50:0.95 | area=medium | maxDets=100 ] = 0.762\n",
            " Average Recall     (AR) @[ IoU=0.50:0.95 | area= large | maxDets=100 ] = 0.852\n",
            "Epoch: [3]  [ 0/60]  eta: 0:02:15  lr: 0.000500  loss: 0.1012 (0.1012)  loss_classifier: 0.0591 (0.0591)  loss_box_reg: 0.0292 (0.0292)  loss_objectness: 0.0006 (0.0006)  loss_rpn_box_reg: 0.0123 (0.0123)  time: 2.2634  data: 0.4915  max mem: 3573\n",
            "Epoch: [3]  [10/60]  eta: 0:01:13  lr: 0.000500  loss: 0.0491 (0.0490)  loss_classifier: 0.0275 (0.0273)  loss_box_reg: 0.0063 (0.0120)  loss_objectness: 0.0003 (0.0008)  loss_rpn_box_reg: 0.0096 (0.0090)  time: 1.4688  data: 0.0475  max mem: 3573\n",
            "Epoch: [3]  [20/60]  eta: 0:00:58  lr: 0.000500  loss: 0.0491 (0.0520)  loss_classifier: 0.0275 (0.0290)  loss_box_reg: 0.0072 (0.0136)  loss_objectness: 0.0002 (0.0009)  loss_rpn_box_reg: 0.0073 (0.0085)  time: 1.4114  data: 0.0051  max mem: 3573\n",
            "Epoch: [3]  [30/60]  eta: 0:00:44  lr: 0.000500  loss: 0.0498 (0.0555)  loss_classifier: 0.0306 (0.0301)  loss_box_reg: 0.0113 (0.0152)  loss_objectness: 0.0002 (0.0008)  loss_rpn_box_reg: 0.0068 (0.0093)  time: 1.4666  data: 0.0071  max mem: 3573\n",
            "Epoch: [3]  [40/60]  eta: 0:00:29  lr: 0.000500  loss: 0.0475 (0.0540)  loss_classifier: 0.0274 (0.0296)  loss_box_reg: 0.0122 (0.0147)  loss_objectness: 0.0002 (0.0007)  loss_rpn_box_reg: 0.0078 (0.0090)  time: 1.5386  data: 0.0069  max mem: 3573\n",
            "Epoch: [3]  [50/60]  eta: 0:00:15  lr: 0.000500  loss: 0.0475 (0.0545)  loss_classifier: 0.0260 (0.0298)  loss_box_reg: 0.0114 (0.0150)  loss_objectness: 0.0002 (0.0006)  loss_rpn_box_reg: 0.0083 (0.0091)  time: 1.5638  data: 0.0070  max mem: 3573\n",
            "Epoch: [3]  [59/60]  eta: 0:00:01  lr: 0.000500  loss: 0.0529 (0.0535)  loss_classifier: 0.0257 (0.0294)  loss_box_reg: 0.0114 (0.0145)  loss_objectness: 0.0002 (0.0006)  loss_rpn_box_reg: 0.0069 (0.0089)  time: 1.4949  data: 0.0072  max mem: 3573\n",
            "Epoch: [3] Total time: 0:01:29 (1.4994 s / it)\n",
            "creating index...\n",
            "index created!\n",
            "Test:  [ 0/50]  eta: 0:00:25  model_time: 0.3537 (0.3537)  evaluator_time: 0.0019 (0.0019)  time: 0.5192  data: 0.1620  max mem: 3573\n",
            "Test:  [49/50]  eta: 0:00:00  model_time: 0.3358 (0.3246)  evaluator_time: 0.0012 (0.0017)  time: 0.3369  data: 0.0036  max mem: 3573\n",
            "Test: Total time: 0:00:16 (0.3361 s / it)\n",
            "Averaged stats: model_time: 0.3358 (0.3246)  evaluator_time: 0.0012 (0.0017)\n",
            "Accumulating evaluation results...\n",
            "DONE (t=0.01s).\n",
            "IoU metric: bbox\n",
            " Average Precision  (AP) @[ IoU=0.50:0.95 | area=   all | maxDets=100 ] = 0.818\n",
            " Average Precision  (AP) @[ IoU=0.50      | area=   all | maxDets=100 ] = 0.991\n",
            " Average Precision  (AP) @[ IoU=0.75      | area=   all | maxDets=100 ] = 0.956\n",
            " Average Precision  (AP) @[ IoU=0.50:0.95 | area= small | maxDets=100 ] = -1.000\n",
            " Average Precision  (AP) @[ IoU=0.50:0.95 | area=medium | maxDets=100 ] = 0.557\n",
            " Average Precision  (AP) @[ IoU=0.50:0.95 | area= large | maxDets=100 ] = 0.828\n",
            " Average Recall     (AR) @[ IoU=0.50:0.95 | area=   all | maxDets=  1 ] = 0.380\n",
            " Average Recall     (AR) @[ IoU=0.50:0.95 | area=   all | maxDets= 10 ] = 0.861\n",
            " Average Recall     (AR) @[ IoU=0.50:0.95 | area=   all | maxDets=100 ] = 0.861\n",
            " Average Recall     (AR) @[ IoU=0.50:0.95 | area= small | maxDets=100 ] = -1.000\n",
            " Average Recall     (AR) @[ IoU=0.50:0.95 | area=medium | maxDets=100 ] = 0.775\n",
            " Average Recall     (AR) @[ IoU=0.50:0.95 | area= large | maxDets=100 ] = 0.867\n",
            "Epoch: [4]  [ 0/60]  eta: 0:01:44  lr: 0.000500  loss: 0.0206 (0.0206)  loss_classifier: 0.0145 (0.0145)  loss_box_reg: 0.0040 (0.0040)  loss_objectness: 0.0001 (0.0001)  loss_rpn_box_reg: 0.0020 (0.0020)  time: 1.7345  data: 0.4617  max mem: 3573\n",
            "Epoch: [4]  [10/60]  eta: 0:01:17  lr: 0.000500  loss: 0.0323 (0.0435)  loss_classifier: 0.0197 (0.0257)  loss_box_reg: 0.0084 (0.0112)  loss_objectness: 0.0001 (0.0002)  loss_rpn_box_reg: 0.0053 (0.0064)  time: 1.5550  data: 0.0454  max mem: 3573\n",
            "Epoch: [4]  [20/60]  eta: 0:01:02  lr: 0.000500  loss: 0.0386 (0.0486)  loss_classifier: 0.0228 (0.0276)  loss_box_reg: 0.0084 (0.0134)  loss_objectness: 0.0001 (0.0003)  loss_rpn_box_reg: 0.0064 (0.0072)  time: 1.5434  data: 0.0053  max mem: 3573\n",
            "Epoch: [4]  [30/60]  eta: 0:00:46  lr: 0.000500  loss: 0.0491 (0.0519)  loss_classifier: 0.0288 (0.0300)  loss_box_reg: 0.0089 (0.0139)  loss_objectness: 0.0002 (0.0003)  loss_rpn_box_reg: 0.0076 (0.0075)  time: 1.5425  data: 0.0070  max mem: 3573\n",
            "Epoch: [4]  [40/60]  eta: 0:00:31  lr: 0.000500  loss: 0.0491 (0.0502)  loss_classifier: 0.0303 (0.0290)  loss_box_reg: 0.0110 (0.0134)  loss_objectness: 0.0002 (0.0003)  loss_rpn_box_reg: 0.0071 (0.0075)  time: 1.5651  data: 0.0069  max mem: 3573\n",
            "Epoch: [4]  [50/60]  eta: 0:00:15  lr: 0.000500  loss: 0.0433 (0.0485)  loss_classifier: 0.0224 (0.0278)  loss_box_reg: 0.0100 (0.0130)  loss_objectness: 0.0001 (0.0003)  loss_rpn_box_reg: 0.0066 (0.0074)  time: 1.5448  data: 0.0068  max mem: 3576\n",
            "Epoch: [4]  [59/60]  eta: 0:00:01  lr: 0.000500  loss: 0.0386 (0.0487)  loss_classifier: 0.0222 (0.0275)  loss_box_reg: 0.0097 (0.0132)  loss_objectness: 0.0001 (0.0004)  loss_rpn_box_reg: 0.0071 (0.0077)  time: 1.5206  data: 0.0068  max mem: 3576\n",
            "Epoch: [4] Total time: 0:01:32 (1.5437 s / it)\n",
            "creating index...\n",
            "index created!\n",
            "Test:  [ 0/50]  eta: 0:00:28  model_time: 0.3700 (0.3700)  evaluator_time: 0.0019 (0.0019)  time: 0.5609  data: 0.1861  max mem: 3576\n",
            "Test:  [49/50]  eta: 0:00:00  model_time: 0.3403 (0.3254)  evaluator_time: 0.0012 (0.0016)  time: 0.3369  data: 0.0036  max mem: 3576\n",
            "Test: Total time: 0:00:16 (0.3373 s / it)\n",
            "Averaged stats: model_time: 0.3403 (0.3254)  evaluator_time: 0.0012 (0.0016)\n",
            "Accumulating evaluation results...\n",
            "DONE (t=0.01s).\n",
            "IoU metric: bbox\n",
            " Average Precision  (AP) @[ IoU=0.50:0.95 | area=   all | maxDets=100 ] = 0.820\n",
            " Average Precision  (AP) @[ IoU=0.50      | area=   all | maxDets=100 ] = 0.991\n",
            " Average Precision  (AP) @[ IoU=0.75      | area=   all | maxDets=100 ] = 0.949\n",
            " Average Precision  (AP) @[ IoU=0.50:0.95 | area= small | maxDets=100 ] = -1.000\n",
            " Average Precision  (AP) @[ IoU=0.50:0.95 | area=medium | maxDets=100 ] = 0.589\n",
            " Average Precision  (AP) @[ IoU=0.50:0.95 | area= large | maxDets=100 ] = 0.832\n",
            " Average Recall     (AR) @[ IoU=0.50:0.95 | area=   all | maxDets=  1 ] = 0.378\n",
            " Average Recall     (AR) @[ IoU=0.50:0.95 | area=   all | maxDets= 10 ] = 0.862\n",
            " Average Recall     (AR) @[ IoU=0.50:0.95 | area=   all | maxDets=100 ] = 0.862\n",
            " Average Recall     (AR) @[ IoU=0.50:0.95 | area= small | maxDets=100 ] = -1.000\n",
            " Average Recall     (AR) @[ IoU=0.50:0.95 | area=medium | maxDets=100 ] = 0.750\n",
            " Average Recall     (AR) @[ IoU=0.50:0.95 | area= large | maxDets=100 ] = 0.870\n"
          ],
          "name": "stdout"
        }
      ]
    },
    {
      "cell_type": "code",
      "metadata": {
        "id": "rz9A07MtSiwt",
        "colab_type": "code",
        "colab": {}
      },
      "source": [
        "# pick one image from the test set\n",
        "img, _ = dataset_test[0]\n",
        "# put the model in evaluation mode\n",
        "model.eval()\n",
        "with torch.no_grad():\n",
        "    prediction = model([img.to(device)])"
      ],
      "execution_count": 0,
      "outputs": []
    },
    {
      "cell_type": "code",
      "metadata": {
        "id": "AK7ii-iZSnAJ",
        "colab_type": "code",
        "outputId": "1668b9ff-0dba-4bab-d87c-0b92b643eb3f",
        "colab": {
          "base_uri": "https://localhost:8080/",
          "height": 72
        }
      },
      "source": [
        "print(prediction)"
      ],
      "execution_count": 17,
      "outputs": [
        {
          "output_type": "stream",
          "text": [
            "[{'boxes': tensor([[ 61.9035,  39.1261, 195.6433, 322.0496],\n",
            "        [276.4688,  24.3870, 291.0222,  74.8683]], device='cuda:0'), 'labels': tensor([1, 1], device='cuda:0'), 'scores': tensor([0.9996, 0.1392], device='cuda:0')}]\n"
          ],
          "name": "stdout"
        }
      ]
    },
    {
      "cell_type": "code",
      "metadata": {
        "id": "yHii9Qp1LcHz",
        "colab_type": "code",
        "colab": {}
      },
      "source": [
        "# convert tensor image to ndarray image\n",
        "# permute for dimension convert (C,H,W) -> (H,W,C)\n",
        "\n",
        "img2 = img.mul(255).permute(1, 2, 0).byte().numpy()"
      ],
      "execution_count": 0,
      "outputs": []
    },
    {
      "cell_type": "code",
      "metadata": {
        "id": "CzzllFajMv0p",
        "colab_type": "code",
        "colab": {}
      },
      "source": [
        "boxes = prediction[0]['boxes'].cpu().detach().numpy()\n",
        "boxes = boxes.astype(int)\n",
        "labels = prediction[0]['labels'].tolist()\n",
        "scores = prediction[0]['scores'].tolist()"
      ],
      "execution_count": 0,
      "outputs": []
    },
    {
      "cell_type": "code",
      "metadata": {
        "id": "WVsVT5f5MYn9",
        "colab_type": "code",
        "colab": {
          "base_uri": "https://localhost:8080/",
          "height": 269
        },
        "outputId": "9f4e0e58-92a0-4102-bd71-c7615197315a"
      },
      "source": [
        "for i in range(len(labels)):\n",
        "  x1 = boxes[i,0]\n",
        "  y1 = boxes[i,1]\n",
        "  x2 = boxes[i,2]\n",
        "  y2 = boxes[i,3]\n",
        "  cv2.rectangle(img2, (x1,y1), (x2,y2),color=(0, 255, 0), thickness=3) # Draw Rectangle with the coordinates\n",
        "plt.imshow(img2)\n",
        "plt.axis('off')\n",
        "plt.show()"
      ],
      "execution_count": 31,
      "outputs": [
        {
          "output_type": "display_data",
          "data": {
            "image/png": "[encoded data removed]",
            "text/plain": [
              "<Figure size 432x288 with 1 Axes>"
            ]
          },
          "metadata": {
            "tags": []
          }
        }
      ]
    },
    {
      "cell_type": "markdown",
      "metadata": {
        "id": "KilYAPtvQS-h",
        "colab_type": "text"
      },
      "source": [
        "Changing a backbone network?"
      ]
    },
    {
      "cell_type": "code",
      "metadata": {
        "id": "x4dX5BtWLjsO",
        "colab_type": "code",
        "colab": {}
      },
      "source": [
        "from torchvision.models.detection import FasterRCNN\n",
        "from torchvision.models.detection.rpn import AnchorGenerator\n",
        "\n",
        "# load a pre-trained model for classification and return only the features\n",
        "backbone = torchvision.models.mobilenet_v2(pretrained=True).features\n",
        "\n",
        "# FasterRCNN needs to know the number of output channels in a backbone. For mobilenet_v2, it's 1280\n",
        "# so we need to add it here\n",
        "backbone.out_channels = 1280\n",
        "\n",
        "# let's make the RPN generate 5 x 3 anchors per spatial location\n",
        "# with 5 different sizes and 3 different aspect ratios. \n",
        "anchor_generator = AnchorGenerator(sizes=((32, 64, 128, 256, 512),),\n",
        "                                   aspect_ratios=((0.5, 1.0, 2.0),))\n",
        "\n",
        "# let's define what are the feature maps that we will\n",
        "# use to perform the region of interest cropping, as well as\n",
        "# the size of the crop after rescaling.\n",
        "# if your backbone returns a Tensor, featmap_names is expected to\n",
        "# be [0]. More generally, the backbone should return an\n",
        "# OrderedDict[Tensor], and in featmap_names you can choose which\n",
        "# feature maps to use.\n",
        "roi_pooler = torchvision.ops.MultiScaleRoIAlign(featmap_names=[0],\n",
        "                                                output_size=7,\n",
        "                                                sampling_ratio=2)\n",
        "\n",
        "# put the pieces together inside a FasterRCNN model\n",
        "model2 = FasterRCNN(backbone,\n",
        "                   num_classes=2,\n",
        "                   rpn_anchor_generator=anchor_generator,\n",
        "                   box_roi_pool=roi_pooler)"
      ],
      "execution_count": 0,
      "outputs": []
    }
  ]
}